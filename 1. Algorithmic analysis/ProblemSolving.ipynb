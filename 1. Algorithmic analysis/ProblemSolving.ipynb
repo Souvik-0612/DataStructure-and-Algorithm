{
 "cells": [
  {
   "attachments": {},
   "cell_type": "markdown",
   "metadata": {},
   "source": [
    "# Problems and it's solutions"
   ]
  },
  {
   "attachments": {},
   "cell_type": "markdown",
   "metadata": {},
   "source": [
    "## Problem 1\n",
    " What is the running time of the following functions?"
   ]
  },
  {
   "cell_type": "code",
   "execution_count": null,
   "metadata": {},
   "outputs": [],
   "source": [
    "def function(n):\n",
    "    i = s = 1\n",
    "    while s < n:\n",
    "        i += 1\n",
    "        s += 1\n",
    "        print(\"*\")\n",
    "function(20)"
   ]
  },
  {
   "attachments": {},
   "cell_type": "markdown",
   "metadata": {},
   "source": [
    "## Solution 1\n",
    "We define the \"s\" terms according to the relation $s_i = s_{i-1} + i$. The value of \"i\" increases by 1 for each iteration. The value contained in \"s\" at the ith iteration is the sum of the first \"i\" positive integers. If k is the total number of iteration taken by the program, then the ```while``` loop terminates if:\n",
    "$$1+2+3...+k = \\frac{k(k+1)}{2}>n\\implies k = O(\\sqrt{n})$$"
   ]
  },
  {
   "attachments": {},
   "cell_type": "markdown",
   "metadata": {},
   "source": []
  }
 ],
 "metadata": {
  "kernelspec": {
   "display_name": "Python 3",
   "language": "python",
   "name": "python3"
  },
  "language_info": {
   "codemirror_mode": {
    "name": "ipython",
    "version": 3
   },
   "file_extension": ".py",
   "mimetype": "text/x-python",
   "name": "python",
   "nbconvert_exporter": "python",
   "pygments_lexer": "ipython3",
   "version": "3.11.3"
  },
  "orig_nbformat": 4
 },
 "nbformat": 4,
 "nbformat_minor": 2
}
